{
 "cells": [
  {
   "cell_type": "code",
   "execution_count": 1,
   "metadata": {},
   "outputs": [
    {
     "name": "stdout",
     "output_type": "stream",
     "text": [
      "2.6.0\n"
     ]
    }
   ],
   "source": [
    "import tensorflow as tf\n",
    "from tensorflow import keras\n",
    "\n",
    "import numpy as np\n",
    "\n",
    "print(tf.__version__)"
   ]
  },
  {
   "cell_type": "code",
   "execution_count": 2,
   "metadata": {},
   "outputs": [],
   "source": [
    "imdb = keras.datasets.imdb\n",
    "\n",
    "(train_data, train_labels), (test_data, test_labels) = imdb.load_data(num_words=10000)"
   ]
  },
  {
   "cell_type": "code",
   "execution_count": 3,
   "metadata": {},
   "outputs": [
    {
     "name": "stdout",
     "output_type": "stream",
     "text": [
      "훈련 샘플: 25000, 레이블: 25000\n"
     ]
    }
   ],
   "source": [
    "print(\"훈련 샘플: {}, 레이블: {}\".format(len(train_data), len(train_labels)))"
   ]
  },
  {
   "cell_type": "code",
   "execution_count": 4,
   "metadata": {},
   "outputs": [
    {
     "name": "stdout",
     "output_type": "stream",
     "text": [
      "[1, 14, 22, 16, 43, 530, 973, 1622, 1385, 65, 458, 4468, 66, 3941, 4, 173, 36, 256, 5, 25, 100, 43, 838, 112, 50, 670, 2, 9, 35, 480, 284, 5, 150, 4, 172, 112, 167, 2, 336, 385, 39, 4, 172, 4536, 1111, 17, 546, 38, 13, 447, 4, 192, 50, 16, 6, 147, 2025, 19, 14, 22, 4, 1920, 4613, 469, 4, 22, 71, 87, 12, 16, 43, 530, 38, 76, 15, 13, 1247, 4, 22, 17, 515, 17, 12, 16, 626, 18, 2, 5, 62, 386, 12, 8, 316, 8, 106, 5, 4, 2223, 5244, 16, 480, 66, 3785, 33, 4, 130, 12, 16, 38, 619, 5, 25, 124, 51, 36, 135, 48, 25, 1415, 33, 6, 22, 12, 215, 28, 77, 52, 5, 14, 407, 16, 82, 2, 8, 4, 107, 117, 5952, 15, 256, 4, 2, 7, 3766, 5, 723, 36, 71, 43, 530, 476, 26, 400, 317, 46, 7, 4, 2, 1029, 13, 104, 88, 4, 381, 15, 297, 98, 32, 2071, 56, 26, 141, 6, 194, 7486, 18, 4, 226, 22, 21, 134, 476, 26, 480, 5, 144, 30, 5535, 18, 51, 36, 28, 224, 92, 25, 104, 4, 226, 65, 16, 38, 1334, 88, 12, 16, 283, 5, 16, 4472, 113, 103, 32, 15, 16, 5345, 19, 178, 32]\n"
     ]
    }
   ],
   "source": [
    "print(train_data[0])"
   ]
  },
  {
   "cell_type": "code",
   "execution_count": 5,
   "metadata": {},
   "outputs": [
    {
     "data": {
      "text/plain": [
       "(218, 189)"
      ]
     },
     "execution_count": 5,
     "metadata": {},
     "output_type": "execute_result"
    }
   ],
   "source": [
    "len(train_data[0]), len(train_data[1])"
   ]
  },
  {
   "cell_type": "code",
   "execution_count": 6,
   "metadata": {},
   "outputs": [],
   "source": [
    "# 단어와 정수 인덱스를 매핑한 딕셔너리\n",
    "word_index = imdb.get_word_index()\n",
    "\n",
    "# 처음 몇 개 인덱스는 사전에 정의되어 있습니다\n",
    "word_index = {k:(v+3) for k,v in word_index.items()}\n",
    "word_index[\"<PAD>\"] = 0\n",
    "word_index[\"<START>\"] = 1\n",
    "word_index[\"<UNK>\"] = 2  # unknown\n",
    "word_index[\"<UNUSED>\"] = 3\n",
    "\n",
    "reverse_word_index = dict([(value, key) for (key, value) in word_index.items()])\n",
    "\n",
    "def decode_review(text):\n",
    "    return ' '.join([reverse_word_index.get(i, '?') for i in text])"
   ]
  },
  {
   "cell_type": "code",
   "execution_count": 7,
   "metadata": {},
   "outputs": [
    {
     "data": {
      "text/plain": [
       "\"<START> this film was just brilliant casting location scenery story direction everyone's really suited the part they played and you could just imagine being there robert <UNK> is an amazing actor and now the same being director <UNK> father came from the same scottish island as myself so i loved the fact there was a real connection with this film the witty remarks throughout the film were great it was just brilliant so much that i bought the film as soon as it was released for <UNK> and would recommend it to everyone to watch and the fly fishing was amazing really cried at the end it was so sad and you know what they say if you cry at a film it must have been good and this definitely was also <UNK> to the two little boy's that played the <UNK> of norman and paul they were just brilliant children are often left out of the <UNK> list i think because the stars that play them all grown up are such a big profile for the whole film but these children are amazing and should be praised for what they have done don't you think the whole story was so lovely because it was true and was someone's life after all that was shared with us all\""
      ]
     },
     "execution_count": 7,
     "metadata": {},
     "output_type": "execute_result"
    }
   ],
   "source": [
    "decode_review(train_data[0])"
   ]
  },
  {
   "cell_type": "code",
   "execution_count": 8,
   "metadata": {},
   "outputs": [],
   "source": [
    "train_data = keras.preprocessing.sequence.pad_sequences(train_data,\n",
    "                                                        value=word_index[\"<PAD>\"],\n",
    "                                                        padding='post',\n",
    "                                                        maxlen=256)\n",
    "\n",
    "test_data = keras.preprocessing.sequence.pad_sequences(test_data,\n",
    "                                                       value=word_index[\"<PAD>\"],\n",
    "                                                       padding='post',\n",
    "                                                       maxlen=256)"
   ]
  },
  {
   "cell_type": "code",
   "execution_count": 9,
   "metadata": {},
   "outputs": [
    {
     "data": {
      "text/plain": [
       "(256, 256)"
      ]
     },
     "execution_count": 9,
     "metadata": {},
     "output_type": "execute_result"
    }
   ],
   "source": [
    "len(train_data[0]), len(train_data[1])"
   ]
  },
  {
   "cell_type": "code",
   "execution_count": 10,
   "metadata": {},
   "outputs": [
    {
     "name": "stdout",
     "output_type": "stream",
     "text": [
      "[   1   14   22   16   43  530  973 1622 1385   65  458 4468   66 3941\n",
      "    4  173   36  256    5   25  100   43  838  112   50  670    2    9\n",
      "   35  480  284    5  150    4  172  112  167    2  336  385   39    4\n",
      "  172 4536 1111   17  546   38   13  447    4  192   50   16    6  147\n",
      " 2025   19   14   22    4 1920 4613  469    4   22   71   87   12   16\n",
      "   43  530   38   76   15   13 1247    4   22   17  515   17   12   16\n",
      "  626   18    2    5   62  386   12    8  316    8  106    5    4 2223\n",
      " 5244   16  480   66 3785   33    4  130   12   16   38  619    5   25\n",
      "  124   51   36  135   48   25 1415   33    6   22   12  215   28   77\n",
      "   52    5   14  407   16   82    2    8    4  107  117 5952   15  256\n",
      "    4    2    7 3766    5  723   36   71   43  530  476   26  400  317\n",
      "   46    7    4    2 1029   13  104   88    4  381   15  297   98   32\n",
      " 2071   56   26  141    6  194 7486   18    4  226   22   21  134  476\n",
      "   26  480    5  144   30 5535   18   51   36   28  224   92   25  104\n",
      "    4  226   65   16   38 1334   88   12   16  283    5   16 4472  113\n",
      "  103   32   15   16 5345   19  178   32    0    0    0    0    0    0\n",
      "    0    0    0    0    0    0    0    0    0    0    0    0    0    0\n",
      "    0    0    0    0    0    0    0    0    0    0    0    0    0    0\n",
      "    0    0    0    0]\n"
     ]
    }
   ],
   "source": [
    "print(train_data[0])"
   ]
  },
  {
   "cell_type": "code",
   "execution_count": 11,
   "metadata": {},
   "outputs": [
    {
     "name": "stdout",
     "output_type": "stream",
     "text": [
      "Model: \"sequential\"\n",
      "_________________________________________________________________\n",
      "Layer (type)                 Output Shape              Param #   \n",
      "=================================================================\n",
      "embedding (Embedding)        (None, None, 16)          160000    \n",
      "_________________________________________________________________\n",
      "global_average_pooling1d (Gl (None, 16)                0         \n",
      "_________________________________________________________________\n",
      "dense (Dense)                (None, 16)                272       \n",
      "_________________________________________________________________\n",
      "dense_1 (Dense)              (None, 1)                 17        \n",
      "=================================================================\n",
      "Total params: 160,289\n",
      "Trainable params: 160,289\n",
      "Non-trainable params: 0\n",
      "_________________________________________________________________\n"
     ]
    }
   ],
   "source": [
    "# 입력 크기는 영화 리뷰 데이터셋에 적용된 어휘 사전의 크기입니다(10,000개의 단어)\n",
    "vocab_size = 10000\n",
    "\n",
    "model = keras.Sequential()\n",
    "model.add(keras.layers.Embedding(vocab_size, 16, input_shape=(None,)))\n",
    "model.add(keras.layers.GlobalAveragePooling1D())\n",
    "model.add(keras.layers.Dense(16, activation='relu'))\n",
    "model.add(keras.layers.Dense(1, activation='sigmoid'))\n",
    "\n",
    "model.summary()"
   ]
  },
  {
   "cell_type": "code",
   "execution_count": 12,
   "metadata": {},
   "outputs": [],
   "source": [
    "model.compile(optimizer='adam',\n",
    "              loss='binary_crossentropy',\n",
    "              metrics=['accuracy'])"
   ]
  },
  {
   "cell_type": "code",
   "execution_count": 13,
   "metadata": {},
   "outputs": [],
   "source": [
    "x_val = train_data[:10000]\n",
    "partial_x_train = train_data[10000:]\n",
    "\n",
    "y_val = train_labels[:10000]\n",
    "partial_y_train = train_labels[10000:]"
   ]
  },
  {
   "cell_type": "code",
   "execution_count": 14,
   "metadata": {},
   "outputs": [
    {
     "name": "stdout",
     "output_type": "stream",
     "text": [
      "Epoch 1/40\n",
      "30/30 [==============================] - 2s 16ms/step - loss: 0.6924 - accuracy: 0.5395 - val_loss: 0.6911 - val_accuracy: 0.5975\n",
      "Epoch 2/40\n",
      "30/30 [==============================] - 0s 8ms/step - loss: 0.6879 - accuracy: 0.6515 - val_loss: 0.6844 - val_accuracy: 0.7419\n",
      "Epoch 3/40\n",
      "30/30 [==============================] - 0s 8ms/step - loss: 0.6778 - accuracy: 0.7537 - val_loss: 0.6720 - val_accuracy: 0.7329\n",
      "Epoch 4/40\n",
      "30/30 [==============================] - 0s 7ms/step - loss: 0.6595 - accuracy: 0.7657 - val_loss: 0.6500 - val_accuracy: 0.7619\n",
      "Epoch 5/40\n",
      "30/30 [==============================] - 0s 7ms/step - loss: 0.6306 - accuracy: 0.7817 - val_loss: 0.6190 - val_accuracy: 0.7766\n",
      "Epoch 6/40\n",
      "30/30 [==============================] - 0s 7ms/step - loss: 0.5921 - accuracy: 0.8003 - val_loss: 0.5805 - val_accuracy: 0.7857\n",
      "Epoch 7/40\n",
      "30/30 [==============================] - 0s 7ms/step - loss: 0.5476 - accuracy: 0.8175 - val_loss: 0.5384 - val_accuracy: 0.8087\n",
      "Epoch 8/40\n",
      "30/30 [==============================] - 0s 7ms/step - loss: 0.5011 - accuracy: 0.8344 - val_loss: 0.4967 - val_accuracy: 0.8225\n",
      "Epoch 9/40\n",
      "30/30 [==============================] - 0s 7ms/step - loss: 0.4560 - accuracy: 0.8504 - val_loss: 0.4583 - val_accuracy: 0.8351\n",
      "Epoch 10/40\n",
      "30/30 [==============================] - 0s 7ms/step - loss: 0.4154 - accuracy: 0.8644 - val_loss: 0.4247 - val_accuracy: 0.8461\n",
      "Epoch 11/40\n",
      "30/30 [==============================] - 0s 7ms/step - loss: 0.3804 - accuracy: 0.8738 - val_loss: 0.3978 - val_accuracy: 0.8527\n",
      "Epoch 12/40\n",
      "30/30 [==============================] - 0s 6ms/step - loss: 0.3505 - accuracy: 0.8835 - val_loss: 0.3756 - val_accuracy: 0.8586\n",
      "Epoch 13/40\n",
      "30/30 [==============================] - 0s 7ms/step - loss: 0.3257 - accuracy: 0.8912 - val_loss: 0.3578 - val_accuracy: 0.8644\n",
      "Epoch 14/40\n",
      "30/30 [==============================] - 0s 7ms/step - loss: 0.3042 - accuracy: 0.8965 - val_loss: 0.3437 - val_accuracy: 0.8695\n",
      "Epoch 15/40\n",
      "30/30 [==============================] - 0s 9ms/step - loss: 0.2859 - accuracy: 0.9016 - val_loss: 0.3321 - val_accuracy: 0.8718\n",
      "Epoch 16/40\n",
      "30/30 [==============================] - 0s 7ms/step - loss: 0.2702 - accuracy: 0.9052 - val_loss: 0.3228 - val_accuracy: 0.8745\n",
      "Epoch 17/40\n",
      "30/30 [==============================] - 0s 7ms/step - loss: 0.2558 - accuracy: 0.9115 - val_loss: 0.3147 - val_accuracy: 0.8762\n",
      "Epoch 18/40\n",
      "30/30 [==============================] - 0s 7ms/step - loss: 0.2427 - accuracy: 0.9157 - val_loss: 0.3086 - val_accuracy: 0.8788\n",
      "Epoch 19/40\n",
      "30/30 [==============================] - 0s 7ms/step - loss: 0.2310 - accuracy: 0.9207 - val_loss: 0.3031 - val_accuracy: 0.8800\n",
      "Epoch 20/40\n",
      "30/30 [==============================] - 0s 7ms/step - loss: 0.2199 - accuracy: 0.9239 - val_loss: 0.2992 - val_accuracy: 0.8819\n",
      "Epoch 21/40\n",
      "30/30 [==============================] - 0s 7ms/step - loss: 0.2099 - accuracy: 0.9279 - val_loss: 0.2959 - val_accuracy: 0.8802\n",
      "Epoch 22/40\n",
      "30/30 [==============================] - 0s 7ms/step - loss: 0.2008 - accuracy: 0.9311 - val_loss: 0.2921 - val_accuracy: 0.8826\n",
      "Epoch 23/40\n",
      "30/30 [==============================] - 0s 7ms/step - loss: 0.1920 - accuracy: 0.9352 - val_loss: 0.2897 - val_accuracy: 0.8833\n",
      "Epoch 24/40\n",
      "30/30 [==============================] - 0s 8ms/step - loss: 0.1842 - accuracy: 0.9381 - val_loss: 0.2887 - val_accuracy: 0.8842\n",
      "Epoch 25/40\n",
      "30/30 [==============================] - 0s 8ms/step - loss: 0.1762 - accuracy: 0.9418 - val_loss: 0.2870 - val_accuracy: 0.8852\n",
      "Epoch 26/40\n",
      "30/30 [==============================] - 0s 7ms/step - loss: 0.1691 - accuracy: 0.9461 - val_loss: 0.2865 - val_accuracy: 0.8846\n",
      "Epoch 27/40\n",
      "30/30 [==============================] - 0s 7ms/step - loss: 0.1620 - accuracy: 0.9477 - val_loss: 0.2862 - val_accuracy: 0.8847\n",
      "Epoch 28/40\n",
      "30/30 [==============================] - 0s 7ms/step - loss: 0.1558 - accuracy: 0.9518 - val_loss: 0.2870 - val_accuracy: 0.8836\n",
      "Epoch 29/40\n",
      "30/30 [==============================] - 0s 7ms/step - loss: 0.1500 - accuracy: 0.9541 - val_loss: 0.2870 - val_accuracy: 0.8854\n",
      "Epoch 30/40\n",
      "30/30 [==============================] - 0s 7ms/step - loss: 0.1439 - accuracy: 0.9565 - val_loss: 0.2865 - val_accuracy: 0.8869\n",
      "Epoch 31/40\n",
      "30/30 [==============================] - 0s 7ms/step - loss: 0.1382 - accuracy: 0.9585 - val_loss: 0.2877 - val_accuracy: 0.8865\n",
      "Epoch 32/40\n",
      "30/30 [==============================] - 0s 7ms/step - loss: 0.1330 - accuracy: 0.9594 - val_loss: 0.2899 - val_accuracy: 0.8866\n",
      "Epoch 33/40\n",
      "30/30 [==============================] - 0s 8ms/step - loss: 0.1281 - accuracy: 0.9624 - val_loss: 0.2911 - val_accuracy: 0.8862\n",
      "Epoch 34/40\n",
      "30/30 [==============================] - 0s 9ms/step - loss: 0.1230 - accuracy: 0.9647 - val_loss: 0.2924 - val_accuracy: 0.8863\n",
      "Epoch 35/40\n",
      "30/30 [==============================] - 0s 8ms/step - loss: 0.1184 - accuracy: 0.9661 - val_loss: 0.2940 - val_accuracy: 0.8867\n",
      "Epoch 36/40\n",
      "30/30 [==============================] - 2s 56ms/step - loss: 0.1141 - accuracy: 0.9679 - val_loss: 0.2988 - val_accuracy: 0.8831\n",
      "Epoch 37/40\n",
      "30/30 [==============================] - 0s 7ms/step - loss: 0.1100 - accuracy: 0.9688 - val_loss: 0.2986 - val_accuracy: 0.8861\n",
      "Epoch 38/40\n",
      "30/30 [==============================] - 0s 7ms/step - loss: 0.1061 - accuracy: 0.9701 - val_loss: 0.3016 - val_accuracy: 0.8839\n",
      "Epoch 39/40\n",
      "30/30 [==============================] - 0s 7ms/step - loss: 0.1018 - accuracy: 0.9722 - val_loss: 0.3036 - val_accuracy: 0.8841\n",
      "Epoch 40/40\n",
      "30/30 [==============================] - 0s 7ms/step - loss: 0.0981 - accuracy: 0.9736 - val_loss: 0.3070 - val_accuracy: 0.8829\n"
     ]
    }
   ],
   "source": [
    "history = model.fit(partial_x_train,\n",
    "                    partial_y_train,\n",
    "                    epochs=40,\n",
    "                    batch_size=512,\n",
    "                    validation_data=(x_val, y_val),\n",
    "                    verbose=1)"
   ]
  },
  {
   "cell_type": "code",
   "execution_count": 15,
   "metadata": {},
   "outputs": [
    {
     "name": "stdout",
     "output_type": "stream",
     "text": [
      "782/782 - 4s - loss: 0.3267 - accuracy: 0.8724\n",
      "[0.3266567885875702, 0.872439980506897]\n"
     ]
    }
   ],
   "source": [
    "results = model.evaluate(test_data,  test_labels, verbose=2)\n",
    "\n",
    "print(results)"
   ]
  },
  {
   "cell_type": "code",
   "execution_count": 16,
   "metadata": {},
   "outputs": [
    {
     "data": {
      "text/plain": [
       "dict_keys(['loss', 'accuracy', 'val_loss', 'val_accuracy'])"
      ]
     },
     "execution_count": 16,
     "metadata": {},
     "output_type": "execute_result"
    }
   ],
   "source": [
    "history_dict = history.history\n",
    "history_dict.keys()"
   ]
  },
  {
   "cell_type": "code",
   "execution_count": 17,
   "metadata": {},
   "outputs": [
    {
     "data": {
      "image/png": "[encoded data removed]",
      "text/plain": [
       "<Figure size 432x288 with 1 Axes>"
      ]
     },
     "metadata": {
      "needs_background": "light"
     },
     "output_type": "display_data"
    }
   ],
   "source": [
    "import matplotlib.pyplot as plt\n",
    "\n",
    "acc = history_dict['accuracy']\n",
    "val_acc = history_dict['val_accuracy']\n",
    "loss = history_dict['loss']\n",
    "val_loss = history_dict['val_loss']\n",
    "\n",
    "epochs = range(1, len(acc) + 1)\n",
    "\n",
    "# \"bo\"는 \"파란색 점\"입니다\n",
    "plt.plot(epochs, loss, 'bo', label='Training loss')\n",
    "# b는 \"파란 실선\"입니다\n",
    "plt.plot(epochs, val_loss, 'b', label='Validation loss')\n",
    "plt.title('Training and validation loss')\n",
    "plt.xlabel('Epochs')\n",
    "plt.ylabel('Loss')\n",
    "plt.legend()\n",
    "\n",
    "plt.show()"
   ]
  },
  {
   "cell_type": "code",
   "execution_count": 18,
   "metadata": {},
   "outputs": [
    {
     "data": {
      "image/png": "[encoded data removed]",
      "text/plain": [
       "<Figure size 432x288 with 1 Axes>"
      ]
     },
     "metadata": {
      "needs_background": "light"
     },
     "output_type": "display_data"
    }
   ],
   "source": [
    "plt.clf()   # 그림을 초기화합니다\n",
    "\n",
    "plt.plot(epochs, acc, 'bo', label='Training acc')\n",
    "plt.plot(epochs, val_acc, 'b', label='Validation acc')\n",
    "plt.title('Training and validation accuracy')\n",
    "plt.xlabel('Epochs')\n",
    "plt.ylabel('Accuracy')\n",
    "plt.legend()\n",
    "\n",
    "plt.show()"
   ]
  },
  {
   "cell_type": "code",
   "execution_count": null,
   "metadata": {},
   "outputs": [],
   "source": []
  }
 ],
 "metadata": {
  "kernelspec": {
   "display_name": "Python 3.8.13 ('patternbot')",
   "language": "python",
   "name": "python3"
  },
  "language_info": {
   "codemirror_mode": {
    "name": "ipython",
    "version": 3
   },
   "file_extension": ".py",
   "mimetype": "text/x-python",
   "name": "python",
   "nbconvert_exporter": "python",
   "pygments_lexer": "ipython3",
   "version": "3.8.13"
  },
  "orig_nbformat": 4,
  "vscode": {
   "interpreter": {
    "hash": "ed44893ae0104caa86f220cfba10c22320bfddf9839e656121d68b25885dc0ca"
   }
  }
 },
 "nbformat": 4,
 "nbformat_minor": 2
}
